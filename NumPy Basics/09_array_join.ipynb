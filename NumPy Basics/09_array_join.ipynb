{
 "cells": [
  {
   "cell_type": "markdown",
   "id": "ab5001c4",
   "metadata": {},
   "source": [
    "# **NumPy Joining Array**"
   ]
  },
  {
   "cell_type": "markdown",
   "id": "26c9f286",
   "metadata": {},
   "source": [
    "## Joining NumPy Arrays\n",
    "\n",
    "Joining means putting contents of two or more arrays in a single array.\n",
    "\n",
    "In SQL we join tables based on a key, whereas in NumPy we join arrays by axes.  \n",
    "\n",
    "We pass a sequence of arrays that we want to join to the **concatenate()** function,  \n",
    "along with the *axis*. If *axis* is not explicitly passed, it is taken as `0`.\n",
    "\n",
    "#### Ex:"
   ]
  },
  {
   "cell_type": "code",
   "execution_count": 5,
   "id": "a2cc4160",
   "metadata": {},
   "outputs": [
    {
     "name": "stdout",
     "output_type": "stream",
     "text": [
      "[1 2 3 4 5 6]\n"
     ]
    }
   ],
   "source": [
    "import numpy as np\n",
    "\n",
    "# creating 2 arrays\n",
    "arr1 = np.array([1,2,3])\n",
    "arr2 = np.array([4,5,6])\n",
    "\n",
    "# joining both arrays\n",
    "arr3 = np.concatenate((arr1,arr2))\n",
    "\n",
    "print(arr3)\n"
   ]
  },
  {
   "cell_type": "markdown",
   "id": "527e2a85",
   "metadata": {},
   "source": [
    "### Axis in Arrays\n",
    "\n",
    "**Axis refers to the dimension along which the action in being performed.**  \n",
    "\n",
    "- A 1-D array have zero axis, only one dimension to go through.\n",
    "\n",
    "- In 2-D arrays, there are 2 axis being `0` and `2`."
   ]
  },
  {
   "cell_type": "markdown",
   "id": "6e037a44",
   "metadata": {},
   "source": [
    "    Axis 0 ↓ (rows)     \n",
    "    [[1, 2, 3],  ← row 0\n",
    "    [4, 5, 6]]  ← row 1 \n",
    "        →               \n",
    "    Axis 1 (columns)    "
   ]
  },
  {
   "cell_type": "markdown",
   "id": "2599796f",
   "metadata": {},
   "source": [
    "#### Ex: Column wise sum."
   ]
  },
  {
   "cell_type": "code",
   "execution_count": null,
   "id": "e7461d4f",
   "metadata": {},
   "outputs": [
    {
     "name": "stdout",
     "output_type": "stream",
     "text": [
      "[5 7 9]\n"
     ]
    }
   ],
   "source": [
    "# creating a 2d array\n",
    "a = np.array([[1, 2, 3],\n",
    "              [4, 5, 6]])\n",
    "\n",
    "# sum\n",
    "print(np.sum(a, axis=0))\n"
   ]
  },
  {
   "cell_type": "markdown",
   "id": "b9d1cb30",
   "metadata": {},
   "source": [
    "#### Ex: Row wise sum."
   ]
  },
  {
   "cell_type": "code",
   "execution_count": 18,
   "id": "136948bd",
   "metadata": {},
   "outputs": [
    {
     "name": "stdout",
     "output_type": "stream",
     "text": [
      "[ 6 15]\n"
     ]
    }
   ],
   "source": [
    "# a = ([[1, 2, 3],\n",
    "#      [4, 5, 6])\n",
    "\n",
    "# sum\n",
    "print(np.sum(a, axis=1))\n"
   ]
  },
  {
   "cell_type": "markdown",
   "id": "bf8e8a8a",
   "metadata": {},
   "source": [
    "## Joining Arrays Using Stack Functions"
   ]
  },
  {
   "cell_type": "markdown",
   "id": "73269cf4",
   "metadata": {},
   "source": [
    "Stacking is same as concatenation, the only difference is that stacking is done along a new axis.  \n",
    "\n",
    "We can concatenate two 1-D arrays along the second axis which would result in putting them  \n",
    "one over the other, ie. stacking.  \n",
    "\n",
    "We pass a sequence of arrays that we want to join to the **stack()** method along with the  \n",
    "axis. If axis is not explicitly passed it is taken as 0.\n",
    "\n",
    "#### Ex:"
   ]
  },
  {
   "cell_type": "code",
   "execution_count": 25,
   "id": "b959a946",
   "metadata": {},
   "outputs": [
    {
     "name": "stdout",
     "output_type": "stream",
     "text": [
      "[[1 4]\n",
      " [2 5]\n",
      " [3 6]]\n"
     ]
    }
   ],
   "source": [
    "# creating 2 arrays\n",
    "arr1 = np.array([1,2,3])\n",
    "arr2 = np.array([4,5,6])\n",
    "\n",
    "# stacking both arrays\n",
    "arr = np.stack((arr1, arr2), axis=1)\n",
    "\n",
    "print(arr)\n"
   ]
  },
  {
   "cell_type": "markdown",
   "id": "e679949a",
   "metadata": {},
   "source": [
    "### Stacking along Rows\n",
    "\n",
    "NumPy provides a helper function: **hstack()** to stack along rows.\n",
    "\n",
    "#### Ex:"
   ]
  },
  {
   "cell_type": "code",
   "execution_count": 26,
   "id": "04678605",
   "metadata": {},
   "outputs": [
    {
     "name": "stdout",
     "output_type": "stream",
     "text": [
      "[1 2 3 4 5 6]\n"
     ]
    }
   ],
   "source": [
    "arr1 = np.array([1, 2, 3])\n",
    "\n",
    "arr2 = np.array([4, 5, 6])\n",
    "\n",
    "arr = np.hstack((arr1, arr2))\n",
    "\n",
    "print(arr)"
   ]
  },
  {
   "cell_type": "markdown",
   "id": "2c6d96db",
   "metadata": {},
   "source": [
    "### Stacking along Columns\n",
    "\n",
    "NumPy provides a helper function: **vstack()**  to stack along columns.\n",
    "\n",
    "#### Ex:"
   ]
  },
  {
   "cell_type": "code",
   "execution_count": 27,
   "id": "abd2407e",
   "metadata": {},
   "outputs": [
    {
     "name": "stdout",
     "output_type": "stream",
     "text": [
      "[[1 2 3]\n",
      " [4 5 6]]\n"
     ]
    }
   ],
   "source": [
    "arr1 = np.array([1, 2, 3])\n",
    "\n",
    "arr2 = np.array([4, 5, 6])\n",
    "\n",
    "arr = np.vstack((arr1, arr2))\n",
    "\n",
    "print(arr)"
   ]
  },
  {
   "cell_type": "markdown",
   "id": "34e14df7",
   "metadata": {},
   "source": [
    "### Stacking along Height (depth)\n",
    "\n",
    "NumPy provides a helper function: **dstack()** to stack along height, which is the same as depth.\n",
    "\n",
    "#### Ex:"
   ]
  },
  {
   "cell_type": "code",
   "execution_count": 28,
   "id": "3f60fb18",
   "metadata": {},
   "outputs": [
    {
     "name": "stdout",
     "output_type": "stream",
     "text": [
      "[[[1 4]\n",
      "  [2 5]\n",
      "  [3 6]]]\n"
     ]
    }
   ],
   "source": [
    "arr1 = np.array([1, 2, 3])\n",
    "\n",
    "arr2 = np.array([4, 5, 6])\n",
    "\n",
    "arr = np.dstack((arr1, arr2))\n",
    "\n",
    "print(arr)"
   ]
  }
 ],
 "metadata": {
  "kernelspec": {
   "display_name": "Python 3",
   "language": "python",
   "name": "python3"
  },
  "language_info": {
   "codemirror_mode": {
    "name": "ipython",
    "version": 3
   },
   "file_extension": ".py",
   "mimetype": "text/x-python",
   "name": "python",
   "nbconvert_exporter": "python",
   "pygments_lexer": "ipython3",
   "version": "3.12.5"
  }
 },
 "nbformat": 4,
 "nbformat_minor": 5
}
