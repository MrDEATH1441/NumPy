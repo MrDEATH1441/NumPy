{
 "cells": [
  {
   "cell_type": "markdown",
   "id": "66c0efe1",
   "metadata": {},
   "source": [
    "# **Arrays**"
   ]
  },
  {
   "cell_type": "markdown",
   "id": "1fe01658",
   "metadata": {},
   "source": [
    "- NumPy is used to work with arrays. The array object in NumPy is called **\"ndarray\"**\n",
    "#### Ex:"
   ]
  },
  {
   "cell_type": "code",
   "execution_count": 40,
   "id": "376db5c3",
   "metadata": {},
   "outputs": [
    {
     "name": "stdout",
     "output_type": "stream",
     "text": [
      "[1 2 3]\n",
      "<class 'numpy.ndarray'>\n"
     ]
    }
   ],
   "source": [
    "import numpy as np\n",
    "\n",
    "arr = np.array([1,2,3])\n",
    "print(arr)\n",
    "print(type(arr))\n"
   ]
  },
  {
   "cell_type": "markdown",
   "id": "c890d163",
   "metadata": {},
   "source": [
    "-   To create an ndarray we can pass a *list, tuple or any array like object* into the **array()**\n",
    " method, and it will be converted into an ndarray.\n",
    "\n",
    "#### Ex: Creating an ndarray using a *tuple*:"
   ]
  },
  {
   "cell_type": "code",
   "execution_count": null,
   "id": "b4da74eb",
   "metadata": {},
   "outputs": [
    {
     "data": {
      "text/plain": [
       "array([1, 2, 3, 4, 5])"
      ]
     },
     "execution_count": 41,
     "metadata": {},
     "output_type": "execute_result"
    }
   ],
   "source": [
    "\n",
    "arr_tup = np.array((1,2,3,4,5))\n",
    "print(arr_tup)\n"
   ]
  },
  {
   "cell_type": "markdown",
   "id": "d1e738ba",
   "metadata": {},
   "source": [
    "## Dimensions in Arrays\n",
    "\n",
    "A Dimension in arrays is one level of array depth (nested arrays).\n",
    "\n",
    "**Nested Arrays:** are the arrays that have arrays as their elements."
   ]
  },
  {
   "cell_type": "markdown",
   "id": "aa09411b",
   "metadata": {},
   "source": [
    "### 0-D Arrays\n",
    "\n",
    "O-D arrays, or Scalars, are the elements of an array. Each value of an array is a 0-D array.\n",
    "\n",
    "#### Ex:"
   ]
  },
  {
   "cell_type": "code",
   "execution_count": 42,
   "id": "3133d0da",
   "metadata": {},
   "outputs": [
    {
     "name": "stdout",
     "output_type": "stream",
     "text": [
      "46\n"
     ]
    }
   ],
   "source": [
    "# Creating a 0-D array\n",
    "\n",
    "zr_arr = np.array(46)\n",
    "print(zr_arr)\n"
   ]
  },
  {
   "cell_type": "markdown",
   "id": "bcc94a77",
   "metadata": {},
   "source": [
    "### 1-D Arrays\n",
    "\n",
    "An array containg only values.\n",
    "\n",
    "#### Ex:"
   ]
  },
  {
   "cell_type": "code",
   "execution_count": null,
   "id": "4a8dc9a2",
   "metadata": {},
   "outputs": [
    {
     "data": {
      "text/plain": [
       "array([1, 2, 3])"
      ]
     },
     "execution_count": 43,
     "metadata": {},
     "output_type": "execute_result"
    }
   ],
   "source": [
    "nums = np.array((1,2,3))\n",
    "print(nums)"
   ]
  },
  {
   "cell_type": "markdown",
   "id": "253708e3",
   "metadata": {},
   "source": [
    "### 2-D Arrays\n",
    "\n",
    "An array that has 1-D arrays as its elements is called a 2-D array.\n",
    "\n",
    "These are often used to represent ***matrix*** or ***2nd order tensors***.\n",
    "\n",
    "#### Ex:"
   ]
  },
  {
   "cell_type": "code",
   "execution_count": 44,
   "id": "cf33cb2a",
   "metadata": {},
   "outputs": [
    {
     "name": "stdout",
     "output_type": "stream",
     "text": [
      "[[1 2]\n",
      " [3 4]]\n"
     ]
    }
   ],
   "source": [
    "# Creating by give a nested list as input\n",
    "\n",
    "arr_2d = np.array([[1,2],[3,4]])\n",
    "print(arr_2d)\n"
   ]
  },
  {
   "cell_type": "markdown",
   "id": "98575ecf",
   "metadata": {},
   "source": [
    "### 3-D Arrays\n",
    "\n",
    "An array that has 2-D arrays (matrices) as its elements is called 3-D array.\n",
    "\n",
    "These are often used to represent a 3rd order tensor.\n",
    "\n",
    "#### Ex:"
   ]
  },
  {
   "cell_type": "code",
   "execution_count": 45,
   "id": "ea4404bd",
   "metadata": {},
   "outputs": [
    {
     "name": "stdout",
     "output_type": "stream",
     "text": [
      "[[[1 2]\n",
      "  [4 5]]\n",
      "\n",
      " [[7 7]\n",
      "  [8 8]]]\n"
     ]
    }
   ],
   "source": [
    "# Double nested lists\n",
    "\n",
    "arr_3d = np.array([[[1,2],[4,5]],[[7,7],[8,8]]])\n",
    "print(arr_3d)\n"
   ]
  },
  {
   "cell_type": "markdown",
   "id": "e2ce4d78",
   "metadata": {},
   "source": [
    "## Check No of Dimensions\n",
    "\n",
    "NumPy Arrays procides the ***ndim*** attribute that returns an integer that tells us how many dimensions the array have.\n",
    "\n",
    "#### Ex:"
   ]
  },
  {
   "cell_type": "code",
   "execution_count": 46,
   "id": "c0f0e0bf",
   "metadata": {},
   "outputs": [
    {
     "name": "stdout",
     "output_type": "stream",
     "text": [
      "1\n",
      "2\n",
      "3\n"
     ]
    }
   ],
   "source": [
    "# No of dimensions of: arr, arr_2d, and arr_3d.\n",
    "print(arr.ndim)\n",
    "print(arr_2d.ndim)\n",
    "print(arr_3d.ndim)\n"
   ]
  },
  {
   "cell_type": "markdown",
   "id": "7c77c2db",
   "metadata": {},
   "source": [
    "## Higher Dimension Arrays\n",
    "\n",
    "Arrays can be of any number of Dimension.\n",
    "\n",
    "When an array is created, you can define the number of dimension by using the ***ndim*** argument.\n",
    "\n",
    "We mostly only use arrays till Dimension 4, which is used in ML, and even higher level arryas are \n",
    "only used for specific problems (scientific calculations, maths, etc).\n",
    "\n",
    "##### Ex: Creating a 5-D array"
   ]
  },
  {
   "cell_type": "code",
   "execution_count": 50,
   "id": "a4b14a4d",
   "metadata": {},
   "outputs": [
    {
     "name": "stdout",
     "output_type": "stream",
     "text": [
      "[[[[[1 2 3 4 5]]]]]\n"
     ]
    }
   ],
   "source": [
    "arr_5d = np.array([1,2,3,4,5], ndmin=5 )\n",
    "print(arr_5d)"
   ]
  }
 ],
 "metadata": {
  "kernelspec": {
   "display_name": "Python 3",
   "language": "python",
   "name": "python3"
  },
  "language_info": {
   "codemirror_mode": {
    "name": "ipython",
    "version": 3
   },
   "file_extension": ".py",
   "mimetype": "text/x-python",
   "name": "python",
   "nbconvert_exporter": "python",
   "pygments_lexer": "ipython3",
   "version": "3.12.5"
  }
 },
 "nbformat": 4,
 "nbformat_minor": 5
}
