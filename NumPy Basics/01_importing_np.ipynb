{
 "cells": [
  {
   "cell_type": "markdown",
   "id": "2dc81a3c",
   "metadata": {},
   "source": [
    "# **Importing Numpy module as 'np'**"
   ]
  },
  {
   "cell_type": "code",
   "execution_count": 1,
   "id": "d4fbc6a5",
   "metadata": {},
   "outputs": [],
   "source": [
    "import numpy as np"
   ]
  },
  {
   "cell_type": "markdown",
   "id": "efaf3962",
   "metadata": {},
   "source": [
    "### 'np' vrsion check"
   ]
  },
  {
   "cell_type": "code",
   "execution_count": 2,
   "id": "9b075eea",
   "metadata": {},
   "outputs": [
    {
     "name": "stdout",
     "output_type": "stream",
     "text": [
      "2.3.1\n"
     ]
    }
   ],
   "source": [
    "print(np.__version__)"
   ]
  },
  {
   "cell_type": "markdown",
   "id": "ec4328b9",
   "metadata": {},
   "source": [
    "#### Now we can use any and all of the numpy's methods, as such:\n",
    "-   Create numpy arrays\n",
    "-   Use array methods"
   ]
  },
  {
   "cell_type": "code",
   "execution_count": 3,
   "id": "209a60cf",
   "metadata": {},
   "outputs": [
    {
     "name": "stdout",
     "output_type": "stream",
     "text": [
      "[1 2 3]\n"
     ]
    }
   ],
   "source": [
    "arr = np.array([1,2,3])\n",
    "print(arr)"
   ]
  },
  {
   "cell_type": "markdown",
   "id": "c5998f73",
   "metadata": {},
   "source": [
    "# Don't Forget to run the line first, where you have imported np Module"
   ]
  }
 ],
 "metadata": {
  "kernelspec": {
   "display_name": "Python 3",
   "language": "python",
   "name": "python3"
  },
  "language_info": {
   "codemirror_mode": {
    "name": "ipython",
    "version": 3
   },
   "file_extension": ".py",
   "mimetype": "text/x-python",
   "name": "python",
   "nbconvert_exporter": "python",
   "pygments_lexer": "ipython3",
   "version": "3.12.5"
  }
 },
 "nbformat": 4,
 "nbformat_minor": 5
}
