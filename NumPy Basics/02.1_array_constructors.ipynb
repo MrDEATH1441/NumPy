{
 "cells": [
  {
   "cell_type": "markdown",
   "id": "250ba502",
   "metadata": {},
   "source": [
    "# **Useful Array Constructors**"
   ]
  },
  {
   "cell_type": "markdown",
   "id": "134d6504",
   "metadata": {},
   "source": [
    "## Zeros Array"
   ]
  },
  {
   "cell_type": "code",
   "execution_count": 1,
   "id": "4a25468a",
   "metadata": {},
   "outputs": [
    {
     "name": "stdout",
     "output_type": "stream",
     "text": [
      "[[0. 0. 0.]\n",
      " [0. 0. 0.]\n",
      " [0. 0. 0.]]\n"
     ]
    }
   ],
   "source": [
    "import numpy as np\n",
    "\n",
    "# Creating zero array\n",
    "z_arr = np.zeros((3,3))\n",
    "\n",
    "print(z_arr)\n"
   ]
  },
  {
   "cell_type": "markdown",
   "id": "d1c9c029",
   "metadata": {},
   "source": [
    "## Ones Array"
   ]
  },
  {
   "cell_type": "code",
   "execution_count": 2,
   "id": "16773080",
   "metadata": {},
   "outputs": [
    {
     "name": "stdout",
     "output_type": "stream",
     "text": [
      "[[1. 1. 1.]\n",
      " [1. 1. 1.]\n",
      " [1. 1. 1.]]\n"
     ]
    }
   ],
   "source": [
    "# Creating Ones array\n",
    "o_arr = np.ones((3,3))\n",
    "\n",
    "print(o_arr)\n"
   ]
  },
  {
   "cell_type": "markdown",
   "id": "09f77205",
   "metadata": {},
   "source": [
    "## Full Array\n",
    "\n",
    "Arrays initialized with custom filled elements."
   ]
  },
  {
   "cell_type": "code",
   "execution_count": 4,
   "id": "7fa64347",
   "metadata": {},
   "outputs": [
    {
     "name": "stdout",
     "output_type": "stream",
     "text": [
      "[[2 2 2]\n",
      " [2 2 2]\n",
      " [2 2 2]]\n"
     ]
    }
   ],
   "source": [
    "# Creating '2' full array\n",
    "t_arr = np.full((3,3), 2)\n",
    "\n",
    "print(t_arr)\n"
   ]
  },
  {
   "cell_type": "markdown",
   "id": "ea22778a",
   "metadata": {},
   "source": [
    "## Identity Matrix Array\n",
    "\n",
    "Used to create identity matrices with given dimension.\n",
    "\n",
    "Both np.eye and np.identity create identity matrices, but:\n",
    "\n",
    "-   np.eye(N, M): creates an NxM matrix, with 1s on the main diagonal. More flexible.\n",
    "\n",
    "-   np.identity(N): creates a square NxN identity matrix only."
   ]
  },
  {
   "cell_type": "code",
   "execution_count": 16,
   "id": "0bf9ca86",
   "metadata": {},
   "outputs": [
    {
     "name": "stdout",
     "output_type": "stream",
     "text": [
      "[[1. 0. 0.]\n",
      " [0. 1. 0.]] \n",
      "\n",
      "[[1. 0. 0.]\n",
      " [0. 1. 0.]\n",
      " [0. 0. 1.]]\n"
     ]
    }
   ],
   "source": [
    "# creating with eye()\n",
    "e_arr = np.eye(2,3)\n",
    "\n",
    "# creating with identity()\n",
    "i_arr = np.identity(3)\n",
    "\n",
    "print(e_arr, \"\\n\")\n",
    "\n",
    "print(i_arr)"
   ]
  },
  {
   "cell_type": "markdown",
   "id": "6f5557cf",
   "metadata": {},
   "source": [
    "## Linespace Array\n",
    "\n",
    "-   Creates evenly spaced values between start and stop.\n",
    "\n",
    "-   You specify how many points (num)."
   ]
  },
  {
   "cell_type": "code",
   "execution_count": 21,
   "id": "34fcbbc9",
   "metadata": {},
   "outputs": [
    {
     "name": "stdout",
     "output_type": "stream",
     "text": [
      "[0.  0.5 1.  1.5 2. ]\n"
     ]
    }
   ],
   "source": [
    "# Craeting an array of num from 02 with 5 elements\n",
    "arr1 = np.linspace(0, 2, 5)\n",
    "\n",
    "print(arr1)\n"
   ]
  },
  {
   "cell_type": "markdown",
   "id": "e13b676a",
   "metadata": {},
   "source": [
    "## ARange Array\n",
    "\n",
    "-   Like Python’s range(), but returns an array.\n",
    "\n",
    "-   You specify step size, not number of points."
   ]
  },
  {
   "cell_type": "code",
   "execution_count": 23,
   "id": "597dac46",
   "metadata": {},
   "outputs": [
    {
     "name": "stdout",
     "output_type": "stream",
     "text": [
      "[0 2 4 6 8]\n"
     ]
    }
   ],
   "source": [
    "# Creating an array with range(0,10,2)\n",
    "arr2 = np.arange(0, 10, 2)\n",
    "\n",
    "print(arr2)\n"
   ]
  },
  {
   "cell_type": "markdown",
   "id": "db2fb7d1",
   "metadata": {},
   "source": [
    "## Meshgrid Array\n",
    "\n",
    "-   Creates coordinate grids from x and y arrays (often from linspace or arange).\n",
    "\n",
    "-   Useful in 2D/3D plotting or function evaluation over a grid."
   ]
  },
  {
   "cell_type": "code",
   "execution_count": null,
   "id": "d31b0b8b",
   "metadata": {},
   "outputs": [
    {
     "name": "stdout",
     "output_type": "stream",
     "text": [
      "[0.  0.5 1. ]\n",
      "[0. 1.] \n",
      "\n",
      "\n",
      "[[0.  0.5 1. ]\n",
      " [0.  0.5 1. ]]\n",
      "[[0. 0. 0.]\n",
      " [1. 1. 1.]]\n"
     ]
    }
   ],
   "source": [
    "x = np.linspace(0, 1, 3)\n",
    "y = np.linspace(0, 1, 2)\n",
    "X, Y = np.meshgrid(x, y)\n",
    "# X, Y are 2D arrays for grid coordinates\n",
    "print(x)\n",
    "print(y, '\\n\\n')\n",
    "\n",
    "print(X)\n",
    "print(Y)\n"
   ]
  }
 ],
 "metadata": {
  "kernelspec": {
   "display_name": "Python 3",
   "language": "python",
   "name": "python3"
  },
  "language_info": {
   "codemirror_mode": {
    "name": "ipython",
    "version": 3
   },
   "file_extension": ".py",
   "mimetype": "text/x-python",
   "name": "python",
   "nbconvert_exporter": "python",
   "pygments_lexer": "ipython3",
   "version": "3.12.5"
  }
 },
 "nbformat": 4,
 "nbformat_minor": 5
}
