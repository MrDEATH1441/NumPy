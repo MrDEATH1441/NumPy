{
 "cells": [
  {
   "cell_type": "markdown",
   "id": "4a63fdb4",
   "metadata": {},
   "source": [
    "# **NumPy Array Shape**"
   ]
  },
  {
   "cell_type": "markdown",
   "id": "48d0bc7f",
   "metadata": {},
   "source": [
    "## Shape of an Array\n",
    "\n",
    "***Shape of an array is no of elements in each Dimension.***"
   ]
  },
  {
   "cell_type": "markdown",
   "id": "24a18735",
   "metadata": {},
   "source": [
    "## Get the Shape of an Array\n",
    "\n",
    "NumPy arrays have an attribute called **shape** that returns a tuple with each index having the number of corresponding elements.\n",
    "\n",
    "#### Shape = ( 1-D, 2-D, 3-D, ..., n-D )\n",
    "-   1-D: elements in the 1st dimension\n",
    "-   2-D: elements in the 2nd dimension\n",
    "\n",
    "#### Ex: Printing the shape of a 5-D array."
   ]
  },
  {
   "cell_type": "code",
   "execution_count": 12,
   "id": "fc31bfe8",
   "metadata": {},
   "outputs": [
    {
     "name": "stdout",
     "output_type": "stream",
     "text": [
      "[[[[[1]]]]]\n",
      "Shape: (1, 1, 1, 1, 1)\n"
     ]
    }
   ],
   "source": [
    "import numpy as np\n",
    "\n",
    "# craeting a 5d array\n",
    "arr_5d = np.array([1],ndmin=5)\n",
    "print(arr_5d)\n",
    "\n",
    "# printing shape\n",
    "print('Shape:',arr_5d.shape)\n"
   ]
  },
  {
   "cell_type": "markdown",
   "id": "7f94a572",
   "metadata": {},
   "source": [
    "# **NumPy Array Reshaping**\n",
    "\n"
   ]
  },
  {
   "cell_type": "markdown",
   "id": "b3a367fb",
   "metadata": {},
   "source": [
    "## Reshaping Arrays\n",
    "\n",
    "The shape of array is the number of emlements in each Dimension.  \n",
    "\n",
    "By reshaping an array we can change the no of elements within each dimension of an array.\n",
    "\n",
    "To reshape an array object in NumPy we have a *reshape()* method. It takes numeric positional arguments  \n",
    "where each number represent a dimension.\n",
    "\n",
    "## 🔄 Basic Syntax\n",
    "```python\n",
    "reshaped = array.reshape(new_shape)\n",
    "\n",
    "`Note`: To reshape an array, the no of elements in the original must be compatible with the disiered shape."
   ]
  },
  {
   "cell_type": "markdown",
   "id": "c343b8cf",
   "metadata": {},
   "source": [
    "## 🧠 Core Principles\n",
    "\n",
    "- **Element Count Must Match**  \n",
    "  You can only reshape if the total number of elements stays the same.  \n",
    "  Example:\n",
    "  ```python\n",
    "  np.array([1, 2, 3, 4]).reshape(2, 2)   # ✅ OK\n",
    "  np.array([1, 2, 3, 4]).reshape(3, 2)   # ❌ Error\n",
    "- **Use -1 to Auto-Infer a Dimension**  \n",
    "  NumPy will calculate the correct size automatically.\n",
    "\n",
    "- **Returns a View if Possible**  \n",
    "  Reshape returns a view (shares memory) if layout allows. Otherwise, it returns a copy.\n",
    "\n",
    "- **Row-Major Order (C-style) by Default**  \n",
    "  Fills data row by row unless order='F' is specified."
   ]
  },
  {
   "cell_type": "markdown",
   "id": "684ce2be",
   "metadata": {},
   "source": [
    "## Converting 1-D to 2-D"
   ]
  },
  {
   "cell_type": "code",
   "execution_count": 48,
   "id": "f8bf6170",
   "metadata": {},
   "outputs": [
    {
     "name": "stdout",
     "output_type": "stream",
     "text": [
      "[1 2 3 4]\n",
      "[[1 2]\n",
      " [3 4]]\n"
     ]
    }
   ],
   "source": [
    "# creating 1d array\n",
    "one_dim = np.array([1,2,3,4])\n",
    "\n",
    "# reshaping\n",
    "two_dim = one_dim.reshape(2,2)\n",
    "\n",
    "print(one_dim)\n",
    "print(two_dim)"
   ]
  },
  {
   "cell_type": "markdown",
   "id": "4bc43d85",
   "metadata": {},
   "source": [
    "## Converting 2-D to 3-D"
   ]
  },
  {
   "cell_type": "code",
   "execution_count": null,
   "id": "1030e7cc",
   "metadata": {},
   "outputs": [
    {
     "name": "stdout",
     "output_type": "stream",
     "text": [
      "[1 2 4 4]\n",
      "[[[1 2 4 4]]]\n"
     ]
    }
   ],
   "source": [
    "# reshaping\n",
    "three_dim = two_dim.reshape(1,1,-1)\n",
    "\n",
    "print(three_dim)\n"
   ]
  },
  {
   "cell_type": "markdown",
   "id": "c8771e44",
   "metadata": {},
   "source": [
    "## Return Copy or View"
   ]
  },
  {
   "cell_type": "code",
   "execution_count": null,
   "id": "a29b95b7",
   "metadata": {},
   "outputs": [
    {
     "name": "stdout",
     "output_type": "stream",
     "text": [
      "[1 2 4 4]\n",
      "[1 2 4 4]\n"
     ]
    }
   ],
   "source": [
    "# checking the base of returning arrays\n",
    "print(two_dim.base)\n",
    "print(two_dim.base)\n"
   ]
  },
  {
   "cell_type": "markdown",
   "id": "763b492b",
   "metadata": {},
   "source": [
    "## Unknown Dimension\n",
    "\n",
    "The *reshape()* can have one \"unkown\" Dimension.  \n",
    "\n",
    "Meaning that we don't have to calculate the no of elements in that Dimension, NumPy will calculate it.\n",
    "\n",
    "**Pass** `-1` as the value, and NumPy will calculate the number of elements in that Dimension.\n",
    "\n",
    "#### Ex:"
   ]
  },
  {
   "cell_type": "code",
   "execution_count": null,
   "id": "e8933e11",
   "metadata": {},
   "outputs": [
    {
     "name": "stdout",
     "output_type": "stream",
     "text": [
      "[[[1 2]\n",
      "  [3 4]]\n",
      "\n",
      " [[5 6]\n",
      "  [7 8]]]\n"
     ]
    }
   ],
   "source": [
    "# creating an 1-D array\n",
    "nums = np.array([1,2,3,4,5,6,7,8])\n",
    "\n",
    "# reshaping with -1\n",
    "nums_3d = nums.reshape(2,2,-1)  # becomes (2,2,2)\n",
    "\n",
    "print(nums_3d)\n"
   ]
  },
  {
   "cell_type": "markdown",
   "id": "de69d7c2",
   "metadata": {},
   "source": [
    "## Flattening the arrays\n",
    "\n",
    "Flattening means converting multi-dimensional arrays into 1-D array.  \n",
    "\n",
    "We can use **reshape(-1)** to do this. '-1' automatically converts to no of elements.\n",
    "\n",
    "#### Ex:"
   ]
  },
  {
   "cell_type": "code",
   "execution_count": 88,
   "id": "9b9edf75",
   "metadata": {},
   "outputs": [
    {
     "name": "stdout",
     "output_type": "stream",
     "text": [
      "[1 2 3 4 5 6 7 8]\n"
     ]
    }
   ],
   "source": [
    "# flattening 3-d array\n",
    "nums_3d_flate = nums_3d.reshape(-1)\n",
    "\n",
    "print(nums_3d_flate)\n"
   ]
  }
 ],
 "metadata": {
  "kernelspec": {
   "display_name": "Python 3",
   "language": "python",
   "name": "python3"
  },
  "language_info": {
   "codemirror_mode": {
    "name": "ipython",
    "version": 3
   },
   "file_extension": ".py",
   "mimetype": "text/x-python",
   "name": "python",
   "nbconvert_exporter": "python",
   "pygments_lexer": "ipython3",
   "version": "3.12.5"
  }
 },
 "nbformat": 4,
 "nbformat_minor": 5
}
