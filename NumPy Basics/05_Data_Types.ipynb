{
 "cells": [
  {
   "cell_type": "markdown",
   "id": "e7b693b3",
   "metadata": {},
   "source": [
    "# **NumPy Data Types**\n",
    "\n",
    "NumPy has some extra data types with the basic python data types, refers to them  \n",
    "with single characters.  \n",
    "\n",
    "Below is a list of all data types in NumPy and the characters used to represent them:\n",
    "\n",
    "- `i` - integer  \n",
    "- `b` - boolean  \n",
    "- `u` - unsigned integer  \n",
    "- `f` - float  \n",
    "- `c` - complex float  \n",
    "- `m` - timedelta  \n",
    "- `M` - datetime  \n",
    "- `O` - object  \n",
    "- `S` - string  \n",
    "- `U` - unicode string  \n",
    "- `V` - fixed chunk of memory for other type (void)\n"
   ]
  },
  {
   "cell_type": "markdown",
   "id": "774d1bda",
   "metadata": {},
   "source": [
    "## Checking NumPy Data Types\n",
    "\n",
    "The NumPy array object has a property called **\"dtype\"** that return the data type of an array.\n",
    "\n",
    "#### Ex:"
   ]
  },
  {
   "cell_type": "code",
   "execution_count": 2,
   "id": "ea5fea01",
   "metadata": {},
   "outputs": [
    {
     "name": "stdout",
     "output_type": "stream",
     "text": [
      "int64\n"
     ]
    }
   ],
   "source": [
    "import numpy as np\n",
    "\n",
    "# creating a int array\n",
    "arr_int = np.array([1,2,3,4])\n",
    "\n",
    "# checking data types\n",
    "print(arr_int.dtype)\n"
   ]
  },
  {
   "cell_type": "markdown",
   "id": "aa5cb17a",
   "metadata": {},
   "source": [
    "## Creating Array With Defined Data Types\n",
    "\n",
    "We can create an array with definied data type by giving the **array()** method a functional  \n",
    "argument: ***dtype=*** and put in any of the pre-listed data types.\n",
    "\n",
    "##### Ex:"
   ]
  },
  {
   "cell_type": "code",
   "execution_count": null,
   "id": "c5230bcd",
   "metadata": {},
   "outputs": [
    {
     "name": "stdout",
     "output_type": "stream",
     "text": [
      "[1. 2. 3. 4. 5.]\n",
      "float32\n"
     ]
    }
   ],
   "source": [
    "# creating an array with float data type\n",
    "arr_float = np.array([1,2,3,4,5], dtype='f')\n",
    "print(arr_float)\n",
    "print(arr_float.dtype)\n",
    "print(arr_float[1])"
   ]
  }
 ],
 "metadata": {
  "kernelspec": {
   "display_name": "Python 3",
   "language": "python",
   "name": "python3"
  },
  "language_info": {
   "codemirror_mode": {
    "name": "ipython",
    "version": 3
   },
   "file_extension": ".py",
   "mimetype": "text/x-python",
   "name": "python",
   "nbconvert_exporter": "python",
   "pygments_lexer": "ipython3",
   "version": "3.12.5"
  }
 },
 "nbformat": 4,
 "nbformat_minor": 5
}
