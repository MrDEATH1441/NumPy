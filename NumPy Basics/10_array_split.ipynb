{
 "cells": [
  {
   "cell_type": "markdown",
   "id": "07056a9e",
   "metadata": {},
   "source": [
    "# **NumPy Spliting Array**"
   ]
  },
  {
   "cell_type": "markdown",
   "id": "248f2afe",
   "metadata": {},
   "source": [
    "Splitting is the inverse opreration of Joining.  \n",
    "\n",
    "Joining merges multiple arrays into one and splitting breaks one array into multiple.  \n",
    "\n",
    "We use **array_split()** for splitting arrays, we pass it the array we want to  \n",
    "split and number of splits.\n",
    "\n",
    "\n",
    "\n",
    "#### Ex: Splitting an array into 3 parts"
   ]
  },
  {
   "cell_type": "code",
   "execution_count": null,
   "id": "91f6f5d1",
   "metadata": {},
   "outputs": [
    {
     "name": "stdout",
     "output_type": "stream",
     "text": [
      "[array([1, 2]), array([3, 4]), array([5])]\n"
     ]
    }
   ],
   "source": [
    "import numpy as np\n",
    "\n",
    "# Creating an array to slpit\n",
    "arr_1 = np.array([1,2,3,4,5])\n",
    "\n",
    "# splitting array\n",
    "new_arr_1 = np.array_split(arr_1, 3)\n",
    "\n",
    "print(new_arr_1)\n"
   ]
  },
  {
   "cell_type": "markdown",
   "id": "dd609331",
   "metadata": {},
   "source": [
    "**It will return a list of equal sized arrays containing array splits.**  \n",
    "\n",
    "If the array has less element then required, it will adjust from the end accordingly.  \n",
    "\n",
    "#### Ex: Splitting array containing 6 element into 4 parts"
   ]
  },
  {
   "cell_type": "code",
   "execution_count": 4,
   "id": "5d75e850",
   "metadata": {},
   "outputs": [
    {
     "name": "stdout",
     "output_type": "stream",
     "text": [
      "[array([1, 2]), array([3, 4]), array([5]), array([6])]\n"
     ]
    }
   ],
   "source": [
    "# Creating array\n",
    "arr_2 = np.array([1,2,3,4,5,6])\n",
    "\n",
    "# Splitting\n",
    "new_arr_2 = np.array_split(arr_2, 4)\n",
    "\n",
    "print(new_arr_2)\n"
   ]
  },
  {
   "cell_type": "markdown",
   "id": "024d1bfc",
   "metadata": {},
   "source": [
    "**`Note`: We also have the method split() available but it will not adjust the elements when elements are less in source array for splitting like in example above, array_split() worked properly but split() would fail.**"
   ]
  },
  {
   "cell_type": "markdown",
   "id": "a32f5739",
   "metadata": {},
   "source": [
    "## Splitting 2-D Array\n",
    "\n",
    "Spltting 2-D arrays is same as splitting 1-D arrays.  \n",
    "\n",
    "#### Ex: Splitting 2-d array containing 2x6 elements into 3 parts"
   ]
  },
  {
   "cell_type": "code",
   "execution_count": 10,
   "id": "8f125c68",
   "metadata": {},
   "outputs": [
    {
     "name": "stdout",
     "output_type": "stream",
     "text": [
      "Array: [[1 2]\n",
      " [3 4]]\n",
      "\n",
      "Array: [[5 6]\n",
      " [7 8]]\n",
      "\n",
      "Array: [[ 9 10]\n",
      " [11 12]]\n",
      "\n"
     ]
    }
   ],
   "source": [
    "# Creating 2-d array\n",
    "arr_2d = np.array([[1,2],[3,4],[5,6],[7,8],[9,10],[11,12]])\n",
    "\n",
    "# spliting \n",
    "new_arr_2d = np.array_split(arr_2d, 3)\n",
    "\n",
    "# printing with loop\n",
    "for arr in new_arr_2d:\n",
    "    print(\"Array:\", arr, end=\"\\n\\n\")\n",
    "\n"
   ]
  },
  {
   "cell_type": "markdown",
   "id": "61bb527a",
   "metadata": {},
   "source": [
    "## Slipting Across Axis\n",
    "\n",
    "Similar to joining along axis, we can also split arrays along there axis.  \n",
    "\n",
    "We can do so by giving the *aixs=* argument, default axis is `0`. \n",
    "\n",
    "An alternate solution is using **hsplit()** opposite of **hstack()**.  \n",
    "\n",
    "#### Ex: Spliting using hsplit()"
   ]
  },
  {
   "cell_type": "code",
   "execution_count": 11,
   "id": "ed71871b",
   "metadata": {},
   "outputs": [
    {
     "name": "stdout",
     "output_type": "stream",
     "text": [
      "[array([[ 1],\n",
      "       [ 4],\n",
      "       [ 7],\n",
      "       [10],\n",
      "       [13],\n",
      "       [16]]), array([[ 2],\n",
      "       [ 5],\n",
      "       [ 8],\n",
      "       [11],\n",
      "       [14],\n",
      "       [17]]), array([[ 3],\n",
      "       [ 6],\n",
      "       [ 9],\n",
      "       [12],\n",
      "       [15],\n",
      "       [18]])]\n"
     ]
    }
   ],
   "source": [
    "# creating 2d array\n",
    "arr = np.array([[1, 2, 3], [4, 5, 6], [7, 8, 9], [10, 11, 12], [13, 14, 15], [16, 17, 18]])\n",
    "\n",
    "# horizontal split\n",
    "newarr = np.hsplit(arr, 3)\n",
    "\n",
    "print(newarr)\n"
   ]
  },
  {
   "cell_type": "markdown",
   "id": "be7c0650",
   "metadata": {},
   "source": [
    "**`Note`: Similar alternates to vstack() and dstack() are available as vsplit() and dsplit().**"
   ]
  }
 ],
 "metadata": {
  "kernelspec": {
   "display_name": "Python 3",
   "language": "python",
   "name": "python3"
  },
  "language_info": {
   "codemirror_mode": {
    "name": "ipython",
    "version": 3
   },
   "file_extension": ".py",
   "mimetype": "text/x-python",
   "name": "python",
   "nbconvert_exporter": "python",
   "pygments_lexer": "ipython3",
   "version": "3.12.5"
  }
 },
 "nbformat": 4,
 "nbformat_minor": 5
}
