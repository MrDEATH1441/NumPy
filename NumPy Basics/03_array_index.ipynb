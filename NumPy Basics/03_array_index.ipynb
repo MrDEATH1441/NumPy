{
 "cells": [
  {
   "cell_type": "markdown",
   "id": "a8562eb0",
   "metadata": {},
   "source": [
    "# **NumPy Array Indexing**"
   ]
  },
  {
   "cell_type": "markdown",
   "id": "fcf21b1e",
   "metadata": {},
   "source": [
    "## Access Array Elements\n",
    "\n",
    "Arrays indexing in NumPy is same as indexing in list.\n",
    "You can access any element of the array by referring to its index number.\n",
    "The indices starts with 0, from the first element, amd -1 from the last.\n",
    "\n",
    "\n",
    "-   | Value     |   'A'   |  'B'  |  'C'  |  'D'  | 'E'  |\n",
    "    |-----------|---------|-------|-------|-------|------|\n",
    "    | Pos Index |    0    |   1   |   2   |   3   |  4   |\n",
    "    | Neg Index |      -5 |    -4 |    -3 |    -2 |   -1 |\n",
    "\n",
    "#### Ex: Accessing the first element through forward indexing"
   ]
  },
  {
   "cell_type": "code",
   "execution_count": 4,
   "id": "07ecf463",
   "metadata": {},
   "outputs": [
    {
     "name": "stdout",
     "output_type": "stream",
     "text": [
      "1\n"
     ]
    }
   ],
   "source": [
    "import numpy as np\n",
    "arr = np.array([1,2,3,4,5])\n",
    "\n",
    "print(arr[0])\n"
   ]
  },
  {
   "cell_type": "markdown",
   "id": "622a6fa8",
   "metadata": {},
   "source": [
    "#### Ex: Accessing the last element through backward indexing"
   ]
  },
  {
   "cell_type": "code",
   "execution_count": 5,
   "id": "aa3310c0",
   "metadata": {},
   "outputs": [
    {
     "name": "stdout",
     "output_type": "stream",
     "text": [
      "5\n"
     ]
    }
   ],
   "source": [
    "print(arr[-1])\n"
   ]
  },
  {
   "cell_type": "markdown",
   "id": "3c1e2258",
   "metadata": {},
   "source": [
    "## Accessing 2-D Array's Elements\n",
    "\n",
    "#### Syntax: ***array_name[i,j]***\n",
    "- *\"i\"* stands for the element of the main array\n",
    "- *\"j\"* stands for the element of the nested array\n",
    "\n",
    "#### Ex:"
   ]
  },
  {
   "cell_type": "code",
   "execution_count": null,
   "id": "c7dfbef9",
   "metadata": {},
   "outputs": [
    {
     "name": "stdout",
     "output_type": "stream",
     "text": [
      "2\n",
      "2\n"
     ]
    }
   ],
   "source": [
    "arr_2d = np.array([[1,2,3],[5,6,7]])\n",
    "\n",
    "# printing the 2nd element from the 1st array:\n",
    "\n",
    "print(arr_2d[0,1])\n",
    "\n",
    "# negative indexing\n",
    "\n",
    "print(arr_2d[-2,-2])\n"
   ]
  }
 ],
 "metadata": {
  "kernelspec": {
   "display_name": "Python 3",
   "language": "python",
   "name": "python3"
  },
  "language_info": {
   "codemirror_mode": {
    "name": "ipython",
    "version": 3
   },
   "file_extension": ".py",
   "mimetype": "text/x-python",
   "name": "python",
   "nbconvert_exporter": "python",
   "pygments_lexer": "ipython3",
   "version": "3.12.5"
  }
 },
 "nbformat": 4,
 "nbformat_minor": 5
}
