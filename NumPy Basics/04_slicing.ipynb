{
 "cells": [
  {
   "cell_type": "markdown",
   "id": "19eb9ed2",
   "metadata": {},
   "source": [
    "# **NumPy Array Slicing**"
   ]
  },
  {
   "cell_type": "markdown",
   "id": "47b3f7a2",
   "metadata": {},
   "source": [
    "## Slicing Arrays\n",
    "\n",
    "Slicing in python means taking elements from one given index to another given index.  \n",
    "-   We pass slice instead of index like this: **[start:end]**. \n",
    "\n",
    "-   We can also define the step, like this: **[start:end:step]**.  \n",
    "\n",
    "-   If we don't pass start its considered 0  \n",
    "\n",
    "-   If we don't pass end its considered length of array in that dimension  \n",
    "\n",
    "-   If we don't pass step its considered 1\n",
    "\n",
    "#### Ex:"
   ]
  },
  {
   "cell_type": "code",
   "execution_count": 6,
   "id": "0b46fc9d",
   "metadata": {},
   "outputs": [
    {
     "name": "stdout",
     "output_type": "stream",
     "text": [
      "[1 2 3]\n",
      "[3 4 5]\n"
     ]
    }
   ],
   "source": [
    "import numpy as np\n",
    "\n",
    "# creating an array\n",
    "arr = np.array([1,2,3,4,5])\n",
    "\n",
    "# Slicing from 1-3\n",
    "print(arr[0:3])\n",
    "\n",
    "# Slicing from 3-5\n",
    "print(arr[2:5])\n"
   ]
  },
  {
   "cell_type": "markdown",
   "id": "72cea713",
   "metadata": {},
   "source": [
    "#### Ex: Reverse Slicing "
   ]
  },
  {
   "cell_type": "code",
   "execution_count": 9,
   "id": "fadce2fa",
   "metadata": {},
   "outputs": [
    {
     "name": "stdout",
     "output_type": "stream",
     "text": [
      "[3 4 5]\n"
     ]
    }
   ],
   "source": [
    "# slicing from 3-5\n",
    "print(arr[-3:])"
   ]
  },
  {
   "cell_type": "markdown",
   "id": "0b30bc9a",
   "metadata": {},
   "source": [
    "## Step\n",
    "\n",
    "The **step** in indexing decides the no of element to skip while iterating the array.\n",
    "\n",
    "#### Ex:"
   ]
  },
  {
   "cell_type": "code",
   "execution_count": 15,
   "id": "7dae84e7",
   "metadata": {},
   "outputs": [
    {
     "name": "stdout",
     "output_type": "stream",
     "text": [
      "[ 2  4  6  8 10]\n"
     ]
    }
   ],
   "source": [
    "# printing every 2nd element in the arr of (1-10)\n",
    "nums = np.array(range(1,11))\n",
    "print(nums[1::2])\n"
   ]
  },
  {
   "cell_type": "markdown",
   "id": "89d6f021",
   "metadata": {},
   "source": [
    "## Slicing 2-D Array\n",
    "\n",
    "It is done in the same manner as normal slicing, but we first navigate through the array by indexing.\n",
    "\n",
    "#### Ex:"
   ]
  },
  {
   "cell_type": "code",
   "execution_count": null,
   "id": "21343cea",
   "metadata": {},
   "outputs": [
    {
     "name": "stdout",
     "output_type": "stream",
     "text": [
      "[5 6]\n"
     ]
    }
   ],
   "source": [
    "# creating a 2-D array\n",
    "arr_2d = np.array([[1,2,3],[4,5,6]])\n",
    "\n",
    "# Slicing the 2nd array from 5-6\n",
    "print(arr_2d[1,1:3])\n"
   ]
  }
 ],
 "metadata": {
  "kernelspec": {
   "display_name": "Python 3",
   "language": "python",
   "name": "python3"
  },
  "language_info": {
   "codemirror_mode": {
    "name": "ipython",
    "version": 3
   },
   "file_extension": ".py",
   "mimetype": "text/x-python",
   "name": "python",
   "nbconvert_exporter": "python",
   "pygments_lexer": "ipython3",
   "version": "3.12.5"
  }
 },
 "nbformat": 4,
 "nbformat_minor": 5
}
