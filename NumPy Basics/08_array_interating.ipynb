{
 "cells": [
  {
   "cell_type": "markdown",
   "id": "bfc2a46a",
   "metadata": {},
   "source": [
    "# **NumPy Array Iterating**"
   ]
  },
  {
   "cell_type": "markdown",
   "id": "9493af23",
   "metadata": {},
   "source": [
    "## Iterating Array\n",
    "\n",
    "Iterating means going through elements one by one.  \n",
    "\n",
    "As we deal with multi-dimensional arrays, we can do this using basic **for** loop in python.  \n",
    "\n",
    "If we iterate on a 1-D array it will go through each element one by one.\n",
    "\n",
    "\n",
    "#### Ex: Iterating through a 1-D array"
   ]
  },
  {
   "cell_type": "code",
   "execution_count": 29,
   "id": "c656200d",
   "metadata": {},
   "outputs": [
    {
     "name": "stdout",
     "output_type": "stream",
     "text": [
      "1\n",
      "2\n",
      "3\n",
      "4\n",
      "5\n",
      "6\n"
     ]
    }
   ],
   "source": [
    "import numpy as np\n",
    "\n",
    "# creating a 1-d array\n",
    "arr_1d = np.array([1,2,3,4,5,6])\n",
    "\n",
    "# iterating through the array\n",
    "for i in arr_1d:\n",
    "    print(i)\n"
   ]
  },
  {
   "cell_type": "markdown",
   "id": "edc1484c",
   "metadata": {},
   "source": [
    "#### Ex: Iterating through a 2-D array"
   ]
  },
  {
   "cell_type": "code",
   "execution_count": 30,
   "id": "a069f9b7",
   "metadata": {},
   "outputs": [
    {
     "name": "stdout",
     "output_type": "stream",
     "text": [
      "[1 2 3]\n",
      "[4 5 6]\n"
     ]
    }
   ],
   "source": [
    "# creating a 2-d array\n",
    "arr_2d = arr_1d.reshape(2,3)\n",
    "\n",
    "# iterating through the array\n",
    "for i in arr_2d:\n",
    "    print(i)\n"
   ]
  },
  {
   "cell_type": "markdown",
   "id": "4e505fad",
   "metadata": {},
   "source": [
    "As we can see it goes throgh all the rows or the nested arrays.  \n",
    "\n",
    "To return the actual values, the scalers, we have to iterate the arrays in each Dimension.  \n",
    "\n",
    "We do this through nested looping.\n",
    "\n",
    "#### Ex:"
   ]
  },
  {
   "cell_type": "code",
   "execution_count": 31,
   "id": "a35229dd",
   "metadata": {},
   "outputs": [
    {
     "name": "stdout",
     "output_type": "stream",
     "text": [
      "1\n",
      "2\n",
      "3\n",
      "4\n",
      "5\n",
      "6\n"
     ]
    }
   ],
   "source": [
    "# iterating 2-d array\n",
    "for i in arr_2d:\n",
    "    for j in i:\n",
    "        print(j)\n",
    "        "
   ]
  },
  {
   "cell_type": "markdown",
   "id": "b66b45da",
   "metadata": {},
   "source": [
    "## Iterating Arrays Using nditer()\n",
    "\n",
    "The function **nditer()** is a helping function that can be used from very basic to very advanced iterations.  \n",
    "\n",
    "### Iterating on Scalar Elements\n",
    "\n",
    "In basic **for** loops, iterarting through each scalar element of an array we need to use *n* **for** loops which  \n",
    "can be difficult to write for higher dimension arrays.\n",
    "\n",
    "#### Ex: Using nditer() to iterate"
   ]
  },
  {
   "cell_type": "code",
   "execution_count": 32,
   "id": "bca7f68b",
   "metadata": {},
   "outputs": [
    {
     "name": "stdout",
     "output_type": "stream",
     "text": [
      "1\n",
      "2\n",
      "3\n",
      "4\n",
      "5\n",
      "6\n",
      "7\n",
      "8\n"
     ]
    }
   ],
   "source": [
    "# creating a 3-d array\n",
    "arr_1d = np.array([1,2,3,4,5,6,7,8])\n",
    "arr_3d = arr_1d.reshape(2,2,2)\n",
    "\n",
    "# iterating through 3d array\n",
    "for i in np.nditer(arr_3d):\n",
    "    print(i)\n",
    "    "
   ]
  },
  {
   "cell_type": "markdown",
   "id": "55be0c3f",
   "metadata": {},
   "source": [
    "### Iterating Array With Different Data Types  \n",
    "\n",
    "It means iterating through an array but with different data type than in the array.  \n",
    "\n",
    "We do this by using **op_dtypes** argument in the *nditer()* method.  \n",
    "\n",
    "NumPy doesn't change the data type of the element in-place ( where the element is in array )  \n",
    "so it needs some other space to perform this action, that extar space is called **buffer**,  \n",
    "and in order to enable it in *nditer()* we pass **flage=['buffered']**.\n",
    "\n",
    "#### Ex: Iterate through the array as a string."
   ]
  },
  {
   "cell_type": "code",
   "execution_count": 48,
   "id": "c2061ba9",
   "metadata": {},
   "outputs": [
    {
     "name": "stdout",
     "output_type": "stream",
     "text": [
      "np.bytes_(b'1')\n",
      "np.bytes_(b'2')\n",
      "np.bytes_(b'3')\n",
      "np.bytes_(b'4')\n",
      "np.bytes_(b'5')\n"
     ]
    }
   ],
   "source": [
    "# creating int array\n",
    "nums = np.array([1,2,3,4,5])\n",
    "\n",
    "# iterating as string\n",
    "for s in np.nditer(nums, flags=['buffered'], op_dtypes=['S']):\n",
    "    print(s)\n"
   ]
  },
  {
   "cell_type": "markdown",
   "id": "4010baca",
   "metadata": {},
   "source": [
    "### Iterating with Step\n",
    "\n",
    "We can use filtering and followed by iteration.  \n",
    "\n",
    "#### Ex: Iterate through every scalar element of the 2D array skipping 1 element."
   ]
  },
  {
   "cell_type": "code",
   "execution_count": 49,
   "id": "b73a73ef",
   "metadata": {},
   "outputs": [
    {
     "name": "stdout",
     "output_type": "stream",
     "text": [
      "1\n",
      "3\n",
      "4\n",
      "6\n"
     ]
    }
   ],
   "source": [
    "# iterating\n",
    "for i in np.nditer(arr_2d[:,::2]):  # every second element in the array\n",
    "    print(i)\n",
    "    "
   ]
  },
  {
   "cell_type": "markdown",
   "id": "196fb776",
   "metadata": {},
   "source": [
    "### Enumerated Iteration Using ndenumerate()\n",
    "\n",
    "Sometimes we require corresponding index of the element while iterating, the **ndenumerate()** method can be used for those usecases.\n",
    "\n",
    "#### Ex:"
   ]
  },
  {
   "cell_type": "code",
   "execution_count": null,
   "id": "0d1d2df9",
   "metadata": {},
   "outputs": [
    {
     "name": "stdout",
     "output_type": "stream",
     "text": [
      "(0,) 1\n",
      "(1,) 2\n",
      "(2,) 3\n"
     ]
    }
   ],
   "source": [
    "arr = np.array([1, 2, 3])\n",
    "\n",
    "for idx, x in np.ndenumerate(arr):\n",
    "  print(idx, x)\n",
    "  "
   ]
  },
  {
   "cell_type": "markdown",
   "id": "00e33494",
   "metadata": {},
   "source": [
    "#### Ex: 2-d enumerate"
   ]
  },
  {
   "cell_type": "code",
   "execution_count": 51,
   "id": "dd6e1b65",
   "metadata": {},
   "outputs": [
    {
     "name": "stdout",
     "output_type": "stream",
     "text": [
      "(0, 0) 1\n",
      "(0, 1) 2\n",
      "(0, 2) 3\n",
      "(1, 0) 4\n",
      "(1, 1) 5\n",
      "(1, 2) 6\n"
     ]
    }
   ],
   "source": [
    "for idx, x in np.ndenumerate(arr_2d):\n",
    "  print(idx, x)\n",
    "  "
   ]
  }
 ],
 "metadata": {
  "kernelspec": {
   "display_name": "Python 3",
   "language": "python",
   "name": "python3"
  },
  "language_info": {
   "codemirror_mode": {
    "name": "ipython",
    "version": 3
   },
   "file_extension": ".py",
   "mimetype": "text/x-python",
   "name": "python",
   "nbconvert_exporter": "python",
   "pygments_lexer": "ipython3",
   "version": "3.12.5"
  }
 },
 "nbformat": 4,
 "nbformat_minor": 5
}
