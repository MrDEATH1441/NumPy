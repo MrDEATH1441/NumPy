{
 "cells": [
  {
   "cell_type": "markdown",
   "id": "b61e69eb",
   "metadata": {},
   "source": [
    "# **NumPy Array Copy vs View**"
   ]
  },
  {
   "cell_type": "markdown",
   "id": "64e3374d",
   "metadata": {},
   "source": [
    "## Difference B/W COPY & VIEW\n",
    "\n",
    "The main difference between a copy and a view of an array is that the copy is a new array, and the view is just a view  \n",
    "of the original array.\n",
    "\n",
    "The copy owns the data and any changes made to the copy will not affect original array, and any changes made to the  \n",
    "original array will not affect the copy.\n",
    "\n",
    "The view does not own the data and any changes made to the view will affect the original array, and any changes  \n",
    "made to the original array will affect the view."
   ]
  },
  {
   "cell_type": "markdown",
   "id": "8be8cd8d",
   "metadata": {},
   "source": [
    "## COPY\n",
    "\n",
    "#### Ex: Make a copy array, change the original array, display changes."
   ]
  },
  {
   "cell_type": "code",
   "execution_count": 1,
   "id": "3909d475",
   "metadata": {},
   "outputs": [
    {
     "name": "stdout",
     "output_type": "stream",
     "text": [
      "Original array: [0 1 2]\n",
      "Copy array: [1 2 3]\n"
     ]
    }
   ],
   "source": [
    "import numpy as np\n",
    "\n",
    "# creating an array\n",
    "arr = np.array([1,2,3])\n",
    "\n",
    "# craeting a copy\n",
    "arr_cp = arr.copy()\n",
    "\n",
    "# changing original \n",
    "arr[0] = 0\n",
    "arr[1] = 1\n",
    "arr[2] = 2\n",
    "\n",
    "# displaying changes\n",
    "print('Original array:', arr)\n",
    "print('Copy array:', arr_cp)\n"
   ]
  },
  {
   "cell_type": "markdown",
   "id": "189ee398",
   "metadata": {},
   "source": [
    "## VIEW\n",
    "\n",
    "#### Ex: Make a view, change the original array, and display both arrays."
   ]
  },
  {
   "cell_type": "code",
   "execution_count": 2,
   "id": "b18f7109",
   "metadata": {},
   "outputs": [
    {
     "name": "stdout",
     "output_type": "stream",
     "text": [
      "Original array: [1 2 3]\n",
      "View array: [1 2 3]\n"
     ]
    }
   ],
   "source": [
    "# creating a view\n",
    "arr_vw = arr.view()\n",
    "\n",
    "# changing original \n",
    "arr[0] = 1\n",
    "arr[1] = 2\n",
    "arr[2] = 3\n",
    "\n",
    "# displaying changes\n",
    "print('Original array:', arr)\n",
    "print('View array:', arr_vw)\n"
   ]
  },
  {
   "cell_type": "markdown",
   "id": "8a995850",
   "metadata": {},
   "source": [
    "#### Ex: Make a view, change the view, and display both arrays."
   ]
  },
  {
   "cell_type": "code",
   "execution_count": 3,
   "id": "5f157eae",
   "metadata": {},
   "outputs": [
    {
     "name": "stdout",
     "output_type": "stream",
     "text": [
      "Original array: [2 2 2]\n",
      "View array: [2 2 2]\n"
     ]
    }
   ],
   "source": [
    "# changing view\n",
    "arr_vw[1] = 2\n",
    "arr_vw[2] = 2\n",
    "arr_vw[0] = 2\n",
    "\n",
    "# displaying changes\n",
    "print('Original array:', arr)\n",
    "print('View array:', arr_vw)\n"
   ]
  },
  {
   "cell_type": "markdown",
   "id": "87f65ddb",
   "metadata": {},
   "source": [
    "## Check if Array Owns its Data\n",
    "\n",
    "Every NumPy array has a **base** attribute that returns **None** if the array owns the data.  \n",
    "\n",
    "Otherwise, the **base** will refer to the original object.\n",
    "\n",
    "#### Ex:"
   ]
  },
  {
   "cell_type": "code",
   "execution_count": 4,
   "id": "ef70c6a2",
   "metadata": {},
   "outputs": [
    {
     "name": "stdout",
     "output_type": "stream",
     "text": [
      "None\n",
      "[2 2 2]\n"
     ]
    }
   ],
   "source": [
    "# checking base of copy and view\n",
    "print(arr_cp.base)\n",
    "print(arr_vw.base)\n"
   ]
  }
 ],
 "metadata": {
  "kernelspec": {
   "display_name": "Python 3",
   "language": "python",
   "name": "python3"
  },
  "language_info": {
   "codemirror_mode": {
    "name": "ipython",
    "version": 3
   },
   "file_extension": ".py",
   "mimetype": "text/x-python",
   "name": "python",
   "nbconvert_exporter": "python",
   "pygments_lexer": "ipython3",
   "version": "3.12.5"
  }
 },
 "nbformat": 4,
 "nbformat_minor": 5
}
