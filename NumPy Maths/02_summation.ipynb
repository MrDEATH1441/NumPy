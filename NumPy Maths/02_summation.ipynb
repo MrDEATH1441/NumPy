{
 "cells": [
  {
   "cell_type": "markdown",
   "id": "14679336",
   "metadata": {},
   "source": [
    "# **NumPy Summations**"
   ]
  },
  {
   "cell_type": "markdown",
   "id": "79884329",
   "metadata": {},
   "source": [
    "## Summations\n",
    "\n",
    "What is the difference between summation and addition?  \n",
    "\n",
    "Addition is done between two arguments whereas summation happens over n elements.  \n",
    "\n",
    "-   `add()`:    add(arg1, arg2, arg3)\n",
    "\n",
    "-   `sum()`:    sum([arr1, arr2, arr3, ...arrN])  \n",
    "                 Only one argument  \n",
    "-   `add()`:    returns a resulting array\n",
    "\n",
    "-   `sum()`:    return the total sum value\n",
    "\n",
    "#### Ex: *add()*"
   ]
  },
  {
   "cell_type": "code",
   "execution_count": 1,
   "id": "706a8e43",
   "metadata": {},
   "outputs": [
    {
     "name": "stdout",
     "output_type": "stream",
     "text": [
      "[2 4 6]\n"
     ]
    }
   ],
   "source": [
    "import numpy as np\n",
    "\n",
    "arr1 = np.array([1, 2, 3])\n",
    "arr2 = np.array([1, 2, 3])\n",
    "\n",
    "newarr = np.add(arr1, arr2)\n",
    "\n",
    "print(newarr)\n"
   ]
  },
  {
   "cell_type": "markdown",
   "id": "c4ceca16",
   "metadata": {},
   "source": [
    "#### Ex: *sum()*"
   ]
  },
  {
   "cell_type": "code",
   "execution_count": 2,
   "id": "138cb6cf",
   "metadata": {},
   "outputs": [
    {
     "name": "stdout",
     "output_type": "stream",
     "text": [
      "12\n"
     ]
    }
   ],
   "source": [
    "arr1 = np.array([1, 2, 3])\n",
    "arr2 = np.array([1, 2, 3])\n",
    "\n",
    "newarr = np.sum([arr1, arr2])\n",
    "\n",
    "print(newarr)\n"
   ]
  },
  {
   "cell_type": "markdown",
   "id": "cc49fa6d",
   "metadata": {},
   "source": [
    "## Summition Over Axis \n",
    "\n",
    "If you specify axis=1, NumPy will sum the numbers in each array.  \n",
    "\n",
    "#### Ex:"
   ]
  },
  {
   "cell_type": "code",
   "execution_count": 9,
   "id": "e2d7bc0b",
   "metadata": {},
   "outputs": [
    {
     "name": "stdout",
     "output_type": "stream",
     "text": [
      "[6 6]\n"
     ]
    }
   ],
   "source": [
    "arr1 = np.array([1, 2, 3])\n",
    "arr2 = np.array([1, 2, 3])\n",
    "\n",
    "newarr = np.sum([arr1, arr2], axis=1)\n",
    "print(newarr)\n"
   ]
  },
  {
   "cell_type": "markdown",
   "id": "5b626b1e",
   "metadata": {},
   "source": [
    "## Cummulative Sum\n",
    "\n",
    "Cummulative sum means partially adding the elements in array.  \n",
    "\n",
    "E.g. The partial sum of [1, 2, 3, 4] would be [1, 1+2, 1+2+3, 1+2+3+4] = [1, 3, 6, 10].  \n",
    "\n",
    "Perfom partial sum with the `cumsum()` function.\n",
    "\n",
    "#### Ex:"
   ]
  },
  {
   "cell_type": "code",
   "execution_count": 3,
   "id": "4bc914ef",
   "metadata": {},
   "outputs": [
    {
     "name": "stdout",
     "output_type": "stream",
     "text": [
      "[1 3 6]\n"
     ]
    }
   ],
   "source": [
    "arr = np.array([1, 2, 3])\n",
    "\n",
    "newarr = np.cumsum(arr)\n",
    "\n",
    "print(newarr)\n"
   ]
  }
 ],
 "metadata": {
  "kernelspec": {
   "display_name": "Python 3",
   "language": "python",
   "name": "python3"
  },
  "language_info": {
   "codemirror_mode": {
    "name": "ipython",
    "version": 3
   },
   "file_extension": ".py",
   "mimetype": "text/x-python",
   "name": "python",
   "nbconvert_exporter": "python",
   "pygments_lexer": "ipython3",
   "version": "3.12.5"
  }
 },
 "nbformat": 4,
 "nbformat_minor": 5
}
