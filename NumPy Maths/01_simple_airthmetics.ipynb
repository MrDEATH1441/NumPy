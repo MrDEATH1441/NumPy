{
 "cells": [
  {
   "cell_type": "markdown",
   "id": "fa165cea",
   "metadata": {},
   "source": [
    "# **NumPy Simple Airthmetics** \n",
    "\n",
    "We could use airthmetic operators `+` `-` `*` `/` directly between NumPy arrays, but this  \n",
    "section discusses an extension of the same where we have function that can take array like  \n",
    "objects e.g. lists, tuples, etc. And perform airthmectic operations *conditionally*.\n",
    "> **Airthmetic Conditionally**: means that we can define condition where the arithmetic operation should happen.  \n",
    "\n",
    "All of the discussed arithmetic functions take a **\"where\"** parameter in which we can specify that condition.\n",
    "\n"
   ]
  },
  {
   "cell_type": "code",
   "execution_count": 19,
   "id": "da5ec7d1",
   "metadata": {},
   "outputs": [
    {
     "name": "stdout",
     "output_type": "stream",
     "text": [
      "[0 6]\n"
     ]
    }
   ],
   "source": [
    "import numpy as np\n",
    "\n",
    "a = np.array([1,2])\n",
    "b = np.array([3,4])\n",
    "\n",
    "# using where\n",
    "result = np.zeros_like(a)\n",
    "np.add(a, b, where=(a > 1), out = result)\n",
    "\n",
    "print(result)\n"
   ]
  },
  {
   "cell_type": "markdown",
   "id": "09edf77d",
   "metadata": {},
   "source": [
    "## Addition\n",
    "\n",
    "The `add()` function sums the content of two arrays, and return the results in a new array.  \n",
    "\n",
    "#### Ex:"
   ]
  },
  {
   "cell_type": "code",
   "execution_count": 20,
   "id": "b9c5d220",
   "metadata": {},
   "outputs": [
    {
     "name": "stdout",
     "output_type": "stream",
     "text": [
      "[30 32 34 36 38 40]\n"
     ]
    }
   ],
   "source": [
    "arr1 = np.array([10, 11, 12, 13, 14, 15])\n",
    "arr2 = np.array([20, 21, 22, 23, 24, 25])\n",
    "\n",
    "newarr = np.add(arr1, arr2)\n",
    "\n",
    "print(newarr)\n"
   ]
  },
  {
   "cell_type": "markdown",
   "id": "f87d7214",
   "metadata": {},
   "source": [
    "## Subtraction\n",
    "\n",
    "The `subtract()` function subtracts the values from one array with the values from another array,  \n",
    "and return the results in a new array.\n",
    "\n",
    "#### Ex:"
   ]
  },
  {
   "cell_type": "code",
   "execution_count": 21,
   "id": "d4e23131",
   "metadata": {},
   "outputs": [
    {
     "name": "stdout",
     "output_type": "stream",
     "text": [
      "[-10  -1   8  17  26  35]\n"
     ]
    }
   ],
   "source": [
    "arr1 = np.array([10, 20, 30, 40, 50, 60])\n",
    "arr2 = np.array([20, 21, 22, 23, 24, 25])\n",
    "\n",
    "newarr = np.subtract(arr1, arr2)\n",
    "\n",
    "print(newarr)\n"
   ]
  },
  {
   "cell_type": "markdown",
   "id": "9a25e2e9",
   "metadata": {},
   "source": [
    "## Multiplication  \n",
    "\n",
    "The `multiply()` function multiplies the values from one array with the values from another array,  \n",
    "and return the results in a new array.\n",
    "\n",
    "#### Ex:"
   ]
  },
  {
   "cell_type": "code",
   "execution_count": 22,
   "id": "9a8d3917",
   "metadata": {},
   "outputs": [
    {
     "name": "stdout",
     "output_type": "stream",
     "text": [
      "[ 200  420  660  920 1200 1500]\n"
     ]
    }
   ],
   "source": [
    "arr1 = np.array([10, 20, 30, 40, 50, 60])\n",
    "arr2 = np.array([20, 21, 22, 23, 24, 25])\n",
    "\n",
    "newarr = np.multiply(arr1, arr2)\n",
    "\n",
    "print(newarr)\n"
   ]
  },
  {
   "cell_type": "markdown",
   "id": "bc851c19",
   "metadata": {},
   "source": [
    "## Division  \n",
    "\n",
    "The `divide()` function divides the values from one array with the values from another array,  \n",
    "and return the results in a new array.\n",
    "\n",
    "#### Ex: "
   ]
  },
  {
   "cell_type": "code",
   "execution_count": 23,
   "id": "8b8a95c6",
   "metadata": {},
   "outputs": [
    {
     "name": "stdout",
     "output_type": "stream",
     "text": [
      "[ 3.33333333  4.          3.          5.         25.          1.81818182]\n"
     ]
    }
   ],
   "source": [
    "arr1 = np.array([10, 20, 30, 40, 50, 60])\n",
    "arr2 = np.array([3, 5, 10, 8, 2, 33])\n",
    "\n",
    "newarr = np.divide(arr1, arr2)\n",
    "\n",
    "print(newarr)\n"
   ]
  },
  {
   "cell_type": "markdown",
   "id": "9030b77e",
   "metadata": {},
   "source": [
    "## Power  \n",
    "\n",
    "The `power()` function rises the values from the first array to the power of the values of the second array,  \n",
    "and return the results in a new array.\n",
    "\n",
    "#### Ex:"
   ]
  },
  {
   "cell_type": "code",
   "execution_count": 24,
   "id": "c4a72259",
   "metadata": {},
   "outputs": [
    {
     "name": "stdout",
     "output_type": "stream",
     "text": [
      "[      1       8     243    4096   78125 1679616]\n"
     ]
    }
   ],
   "source": [
    "arr1 = np.array([1, 2, 3, 4, 5, 6])\n",
    "arr2 = np.array([2, 3, 5, 6, 7, 8])\n",
    "\n",
    "newarr = np.power(arr1, arr2)\n",
    "\n",
    "print(newarr)\n"
   ]
  },
  {
   "cell_type": "markdown",
   "id": "080c4f42",
   "metadata": {},
   "source": [
    "## Remainder  \n",
    "\n",
    "Both the `mod()` and the `remainder()` functions return the remainder of the values in the first  \n",
    "array corresponding to the values in the second array, and return the results in a new array.\n",
    "\n",
    "#### Ex: *mod()*"
   ]
  },
  {
   "cell_type": "code",
   "execution_count": 25,
   "id": "d623f21c",
   "metadata": {},
   "outputs": [
    {
     "name": "stdout",
     "output_type": "stream",
     "text": [
      "[ 1  6  3  0  0 27]\n"
     ]
    }
   ],
   "source": [
    "arr1 = np.array([10, 20, 30, 40, 50, 60])\n",
    "arr2 = np.array([3, 7, 9, 8, 2, 33])\n",
    "\n",
    "newarr = np.mod(arr1, arr2)\n",
    "\n",
    "print(newarr)\n"
   ]
  },
  {
   "cell_type": "markdown",
   "id": "a65a2367",
   "metadata": {},
   "source": [
    "#### Ex: *remainder()*"
   ]
  },
  {
   "cell_type": "code",
   "execution_count": 26,
   "id": "221a0c6b",
   "metadata": {},
   "outputs": [
    {
     "name": "stdout",
     "output_type": "stream",
     "text": [
      "[ 1  6  3  0  0 27]\n"
     ]
    }
   ],
   "source": [
    "arr1 = np.array([10, 20, 30, 40, 50, 60])\n",
    "arr2 = np.array([3, 7, 9, 8, 2, 33])\n",
    "\n",
    "newarr = np.remainder(arr1, arr2)\n",
    "\n",
    "print(newarr)\n"
   ]
  },
  {
   "cell_type": "markdown",
   "id": "8de04564",
   "metadata": {},
   "source": [
    "## Quotient and Mod\n",
    "\n",
    "The `divmod()` function return both the quotient and the mod. The return value is two arrays,  \n",
    "the first array contains the quotient and second array contains the mod.\n",
    "\n",
    "#### Ex: "
   ]
  },
  {
   "cell_type": "code",
   "execution_count": 27,
   "id": "00653cd1",
   "metadata": {},
   "outputs": [
    {
     "name": "stdout",
     "output_type": "stream",
     "text": [
      "(array([ 3,  2,  3,  5, 25,  1]), array([ 1,  6,  3,  0,  0, 27]))\n"
     ]
    }
   ],
   "source": [
    "arr1 = np.array([10, 20, 30, 40, 50, 60])\n",
    "arr2 = np.array([3, 7, 9, 8, 2, 33])\n",
    "\n",
    "newarr = np.divmod(arr1, arr2)\n",
    "\n",
    "print(newarr)\n"
   ]
  },
  {
   "cell_type": "markdown",
   "id": "5d9e4770",
   "metadata": {},
   "source": [
    "## Absolute Values\n",
    "\n",
    "Both the `absolute()` and the `abs()` functions do the same absolute operation element-wise  \n",
    "but we should use `absolute()` to avoid confusion with python's inbuilt `math.abs()`.\n",
    "\n",
    "#### Ex: "
   ]
  },
  {
   "cell_type": "code",
   "execution_count": 29,
   "id": "ebea0b08",
   "metadata": {},
   "outputs": [
    {
     "name": "stdout",
     "output_type": "stream",
     "text": [
      "[1 2 1 2 3 4]\n"
     ]
    }
   ],
   "source": [
    "arr = np.array([-1, -2, 1, 2, 3, -4])\n",
    "\n",
    "newarr = np.absolute(arr)\n",
    "\n",
    "print(newarr)\n"
   ]
  }
 ],
 "metadata": {
  "kernelspec": {
   "display_name": "Python 3",
   "language": "python",
   "name": "python3"
  },
  "language_info": {
   "codemirror_mode": {
    "name": "ipython",
    "version": 3
   },
   "file_extension": ".py",
   "mimetype": "text/x-python",
   "name": "python",
   "nbconvert_exporter": "python",
   "pygments_lexer": "ipython3",
   "version": "3.12.5"
  }
 },
 "nbformat": 4,
 "nbformat_minor": 5
}
