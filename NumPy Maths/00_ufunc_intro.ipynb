{
 "cells": [
  {
   "cell_type": "markdown",
   "id": "f03e3e2e",
   "metadata": {},
   "source": [
    "# **NumPy ufuncs**"
   ]
  },
  {
   "cell_type": "markdown",
   "id": "2182f693",
   "metadata": {},
   "source": [
    "## What are ufunc?\n",
    "\n",
    "ufunc stands for \"*Universal Functions*\" and they are NumPy functions that operate on the *ndarray* object."
   ]
  },
  {
   "cell_type": "markdown",
   "id": "13bf7de8",
   "metadata": {},
   "source": [
    "## Why use ufunc?\n",
    "\n",
    "ufuncs are used to implement *vectorization* in NumPy which is way faster than interating over elements. \n",
    "\n",
    "They also provide broadcasting and additinal methods like reduce, accumulate, etc.  \n",
    "that are very helpful for computation.  \n",
    "\n",
    "ufunc also takes additional arguments like:\n",
    "\n",
    "-   `where` boolean array or condition defining where the operations should take place. \n",
    "\n",
    "-   `dtype` defining the return type of the element.  \n",
    "\n",
    "-   `out`   output array where the reuturn value should be copied."
   ]
  },
  {
   "cell_type": "markdown",
   "id": "9911b1c2",
   "metadata": {},
   "source": [
    "## What is Vectorization?\n",
    "\n",
    "Converting iterative statements into a vector based operation is called vectorization.  \n",
    "\n",
    "In computer science, **vectorization** means:\n",
    "\n",
    "> Rewriting operations to act on **entire vectors or arrays at once**, rather than processing  \n",
    "elements one by one.  \n",
    "\n",
    "In simple terms, it is the process of avoiding python slow looping mechanism through NumPy's  \n",
    "array expression that operate on whole arrays.\n",
    "\n",
    "#### Ex: Adding element of two lists though python loops"
   ]
  },
  {
   "cell_type": "code",
   "execution_count": 11,
   "id": "771c58dd",
   "metadata": {},
   "outputs": [
    {
     "name": "stdout",
     "output_type": "stream",
     "text": [
      "[5, 7, 9]\n"
     ]
    }
   ],
   "source": [
    "# lists\n",
    "a = [1,2,3]\n",
    "b = [4,5,6]\n",
    "c = []\n",
    "\n",
    "# sum\n",
    "for i,j in zip(a,b):\n",
    "    c.append(i+j)\n",
    "\n",
    "print(c)\n"
   ]
  },
  {
   "cell_type": "markdown",
   "id": "affd03b2",
   "metadata": {},
   "source": [
    "#### Ex: Adding elements of two lists using NumPy's vectorization priniciple"
   ]
  },
  {
   "cell_type": "code",
   "execution_count": 12,
   "id": "15a4766d",
   "metadata": {},
   "outputs": [
    {
     "name": "stdout",
     "output_type": "stream",
     "text": [
      "[5 7 9]\n"
     ]
    }
   ],
   "source": [
    "import numpy as np\n",
    "\n",
    "# array\n",
    "arr_a = np.array(a)\n",
    "arr_b = np.array(b)\n",
    "arr_c = np.array(c)\n",
    "\n",
    "# sum\n",
    "arr_c = arr_a + arr_b   # or np.add(arr_a, arr_b)\n",
    "\n",
    "print(arr_c)\n"
   ]
  }
 ],
 "metadata": {
  "kernelspec": {
   "display_name": "Python 3",
   "language": "python",
   "name": "python3"
  },
  "language_info": {
   "codemirror_mode": {
    "name": "ipython",
    "version": 3
   },
   "file_extension": ".py",
   "mimetype": "text/x-python",
   "name": "python",
   "nbconvert_exporter": "python",
   "pygments_lexer": "ipython3",
   "version": "3.12.5"
  }
 },
 "nbformat": 4,
 "nbformat_minor": 5
}
